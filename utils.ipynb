{
 "cells": [
  {
   "cell_type": "code",
   "execution_count": 4,
   "metadata": {},
   "outputs": [
    {
     "data": {
      "text/plain": [
       "'Rescuer Bot-қа қош келдіңіз! Опцияны таңдаңыз:'"
      ]
     },
     "execution_count": 4,
     "metadata": {},
     "output_type": "execute_result"
    }
   ],
   "source": [
    "from i18n import get_text\n",
    "\n",
    "get_text('welcome', 'kz')\n",
    "\n"
   ]
  },
  {
   "cell_type": "code",
   "execution_count": 2,
   "metadata": {},
   "outputs": [
    {
     "name": "stdout",
     "output_type": "stream",
     "text": [
      "Found key: 'welcome' in language: 'kz'\n"
     ]
    }
   ],
   "source": [
    "from i18n import get_key_and_lang\n",
    "\n",
    "# Example usage\n",
    "result = get_key_and_lang(\"Rescuer Bot-қа қош келдіңіз! Опцияны таңдаңыз:\")\n",
    "if result:\n",
    "    key, lang = result\n",
    "    print(f\"Found key: '{key}' in language: '{lang}'\")\n",
    "else:\n",
    "    print(\"Text not found in any translation.\")"
   ]
  },
  {
   "cell_type": "code",
   "execution_count": null,
   "metadata": {},
   "outputs": [],
   "source": []
  }
 ],
 "metadata": {
  "kernelspec": {
   "display_name": "venv",
   "language": "python",
   "name": "python3"
  },
  "language_info": {
   "codemirror_mode": {
    "name": "ipython",
    "version": 3
   },
   "file_extension": ".py",
   "mimetype": "text/x-python",
   "name": "python",
   "nbconvert_exporter": "python",
   "pygments_lexer": "ipython3",
   "version": "3.12.4"
  }
 },
 "nbformat": 4,
 "nbformat_minor": 2
}
